{
 "cells": [
  {
   "cell_type": "markdown",
   "metadata": {},
   "source": [
    "# Generating a QRcode in a Terminal window\n",
    "---\n",
    "\n",
    "Sometimes nothing else will work but a QRcode (e.g. for sending a URL to a mobile device).\n",
    "\n",
    "This little script will generate a QRcode in a terminal window."
   ]
  },
  {
   "cell_type": "code",
   "execution_count": null,
   "metadata": {},
   "outputs": [],
   "source": [
    "require 'rqrcode'\n",
    "require 'term/ansicolor'\n",
    "require 'highline/import'\n",
    "require 'optparse'\n",
    "require 'cgi'\n",
    "\n",
    "text_to_encode = \"hello world\"\n",
    "\n",
    "@size     = 4\n",
    "\n",
    "class String\n",
    "  include Term::ANSIColor\n",
    "\n",
    "  # my terminal is black background, so space comes out as black and to have\n",
    "  # white, need to have bright-white.\n",
    "  def dark_if(yes_or_no)\n",
    "    yes_or_no ? '  ' : on_white.white.bold\n",
    "  end\n",
    "end\n",
    "\n",
    "qrcode = nil\n",
    "\n",
    "# Need to the size of the qrcode, this is depended on the length\n",
    "# of what we're encoding. This code determines the size automagically.\n",
    "50.times do\n",
    "  begin\n",
    "    qrcode = RQRCode::QRCode.\n",
    "      new(text_to_encode, :size => @size.to_i, :level => 'q')\n",
    "  rescue RQRCode::QRCodeRunTimeError => e\n",
    "    @size = (@size.to_i + 1).to_s\n",
    "  end\n",
    "end\n",
    "\n",
    "ary_size =  qrcode.module_count + 2\n",
    "ary = Array.new(ary_size) { |_| [false]*ary_size }\n",
    "\n",
    "qrcode.modules.each_index do |x|\n",
    "  qrcode.modules.each_index do |y|\n",
    "    ary[x+1][y+1] = qrcode.dark?(x,y)\n",
    "  end\n",
    "end\n",
    "\n",
    "# because of the font setting on my terminal, to get a square qrcode, need to use\n",
    "# ██ instead of just █ ...\n",
    "(0...ary.size).to_a.tap do |loopidx|\n",
    "  loopidx.each do |xidx|\n",
    "    loopidx.each do |yidx|\n",
    "      print '██'.dark_if(ary[xidx][yidx])\n",
    "    end\n",
    "    puts \"\"\n",
    "  end\n",
    "end\n",
    "\n",
    "nil"
   ]
  }
 ],
 "metadata": {
  "kernelspec": {
   "display_name": "Ruby 2.5.1",
   "language": "ruby",
   "name": "ruby"
  },
  "language_info": {
   "file_extension": ".rb",
   "mimetype": "application/x-ruby",
   "name": "ruby",
   "version": "2.5.1"
  }
 },
 "nbformat": 4,
 "nbformat_minor": 2
}

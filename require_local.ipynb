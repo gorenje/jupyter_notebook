{
 "cells": [
  {
   "cell_type": "markdown",
   "metadata": {},
   "source": [
    "# Requiring local ruby files\n",
    "---\n",
    "\n",
    "Example of requiring files that are included in the docker image in ruby code.\n",
    "\n",
    "Here we use the [fubar.rb](https://github.com/gorenje/jupyter_ruby_notebook/blob/master/base_image/fubar.rb) that was included in the base image."
   ]
  },
  {
   "cell_type": "code",
   "execution_count": null,
   "metadata": {},
   "outputs": [],
   "source": [
    "require './fubar.rb'\n",
    "\n",
    "Fubar.new.method"
   ]
  }
 ],
 "metadata": {
  "kernelspec": {
   "display_name": "Ruby 2.5.1",
   "language": "ruby",
   "name": "ruby"
  },
  "language_info": {
   "file_extension": ".rb",
   "mimetype": "application/x-ruby",
   "name": "ruby",
   "version": "2.5.1"
  }
 },
 "nbformat": 4,
 "nbformat_minor": 2
}

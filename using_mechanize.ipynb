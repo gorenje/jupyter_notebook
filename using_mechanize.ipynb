{
 "cells": [
  {
   "cell_type": "markdown",
   "metadata": {},
   "source": [
    "# Simple Scraper\n",
    "---\n",
    "\n",
    "Using mechanize to create simple scraper for json feeds."
   ]
  },
  {
   "cell_type": "code",
   "execution_count": null,
   "metadata": {},
   "outputs": [],
   "source": [
    "require 'rest-client'\n",
    "require 'mechanize'\n",
    "\n",
    "module BaseImporter\n",
    "  module ExtendWithJson\n",
    "    def json(*args)\n",
    "      JSON(get(*args).body)\n",
    "    end\n",
    "\n",
    "    def jpost(url, data)\n",
    "      JSON(post(url,data).body)\n",
    "    end\n",
    "  end\n",
    "\n",
    "  def self.mechanize_agent(user_agent = :use_mozilla)\n",
    "    Mechanize.new.tap do |agent|\n",
    "      agent.agent.http.verify_mode = OpenSSL::SSL::VERIFY_NONE\n",
    "      if user_agent == :use_mozilla\n",
    "        agent.user_agent_alias = 'Linux Mozilla'\n",
    "      else\n",
    "        agent.user_agent = user_agent\n",
    "      end\n",
    "    end.send(:extend, BaseImporter::ExtendWithJson)\n",
    "  end\n",
    "end\n",
    "\n",
    "BaseDataUrl = (\"http://www.abandonedberlin.com/feeds/posts/\"+\n",
    "                 \"default?max-results=500&alt=json\")\n",
    "\n",
    "data = BaseImporter.mechanize_agent.json(BaseDataUrl)\n",
    "\n",
    "puts data[\"feed\"][\"entry\"].count"
   ]
  }
 ],
 "metadata": {
  "kernelspec": {
   "display_name": "Ruby 2.5.1",
   "language": "ruby",
   "name": "ruby"
  },
  "language_info": {
   "file_extension": ".rb",
   "mimetype": "application/x-ruby",
   "name": "ruby",
   "version": "2.5.1"
  }
 },
 "nbformat": 4,
 "nbformat_minor": 2
}

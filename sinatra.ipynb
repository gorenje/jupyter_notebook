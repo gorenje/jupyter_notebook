{
 "cells": [
  {
   "cell_type": "markdown",
   "metadata": {},
   "source": [
    "# Running a Sinatra Server\n",
    "---\n",
    "\n",
    "Simple example of running a Sinatra server and retreiving data.\n",
    "\n",
    "First start the server in a separate thread."
   ]
  },
  {
   "cell_type": "code",
   "execution_count": null,
   "metadata": {
    "scrolled": true
   },
   "outputs": [],
   "source": [
    "@port = ENV['PORT']||'3001'\n",
    "\n",
    "require 'sinatra'\n",
    "require 'thin'\n",
    "\n",
    "class PanoApp < Sinatra::Base\n",
    "  set :show_exceptions, :after_handler\n",
    "\n",
    "  get '*' do\n",
    "    filename = ENV['HOME'] + request.path\n",
    "    if File.exists?( filename )\n",
    "      puts \"Request #{request.url} ==> Sending #{filename}\"\n",
    "      send_file File.open(filename)\n",
    "    else\n",
    "      halt 404\n",
    "    end\n",
    "  end\n",
    "end\n",
    "\n",
    "Thread.new do \n",
    "  Thin::Server.new(@port.to_i).tap do |s|\n",
    "    s.app = PanoApp\n",
    "  end.start\n",
    "end\n"
   ]
  },
  {
   "cell_type": "markdown",
   "metadata": {},
   "source": [
    "Then request some data."
   ]
  },
  {
   "cell_type": "code",
   "execution_count": null,
   "metadata": {},
   "outputs": [],
   "source": [
    "require 'rest-client'\n",
    "puts RestClient.get(\"http://localhost:3001/fubar.rb\")"
   ]
  }
 ],
 "metadata": {
  "kernelspec": {
   "display_name": "Ruby 2.5.1",
   "language": "ruby",
   "name": "ruby"
  },
  "language_info": {
   "file_extension": ".rb",
   "mimetype": "application/x-ruby",
   "name": "ruby",
   "version": "2.5.1"
  }
 },
 "nbformat": 4,
 "nbformat_minor": 2
}
